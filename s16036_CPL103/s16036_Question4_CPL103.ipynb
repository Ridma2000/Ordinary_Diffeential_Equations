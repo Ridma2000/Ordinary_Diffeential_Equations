{
 "cells": [
  {
   "cell_type": "code",
   "execution_count": 1,
   "id": "b03f915c",
   "metadata": {},
   "outputs": [],
   "source": [
    "#defining fourth order runge kutta method\n",
    "\n",
    "def fourth_order_runge_kutta(f, x0, y0, h, num_steps):\n",
    "    xValues = [x0]\n",
    "    yValues = [y0]\n",
    "    \n",
    "    for i in range(num_steps):\n",
    "        x = xValues[-1]\n",
    "        y = yValues[-1]\n",
    "        \n",
    "        k1 = h * f(y)\n",
    "        k2 = h * f(y + k1/2)\n",
    "        k3 = h * f(y + k2/2)\n",
    "        k4 = h * f(y + k3)\n",
    "        \n",
    "        xNew = x + h\n",
    "        yNew = y + (1/6)*(k1 + 2*k2 + 2*k3 + k4)\n",
    "        \n",
    "        xValues.append(xNew)\n",
    "        yValues.append(yNew)\n",
    "        \n",
    "    return xValues, yValues"
   ]
  },
  {
   "cell_type": "code",
   "execution_count": 2,
   "id": "7a0e313f",
   "metadata": {},
   "outputs": [
    {
     "name": "stdout",
     "output_type": "stream",
     "text": [
      "Amount of bacteria after 4 hours: 275.3334619861144\n"
     ]
    }
   ],
   "source": [
    "#part3\n",
    "#b\n",
    "def f(x):\n",
    "    return (0.1 * x) - (0.001 * (x**2))\n",
    "\n",
    "def solve_bacteria_population(x0, num_st):\n",
    "    h = 0.01  # Step size\n",
    "    \n",
    "    xValues, yValues = fourth_order_runge_kutta(f, 0, x0, h, num_st)\n",
    "\n",
    "    final_population = yValues[-1]\n",
    "    return final_population\n",
    "\n",
    "x0 = 2000\n",
    "num_st = 400\n",
    "\n",
    "finalPopulation = solve_bacteria_population(x0, num_st)\n",
    "print(\"Amount of bacteria after 4 hours:\", finalPopulation)\n"
   ]
  },
  {
   "cell_type": "code",
   "execution_count": 6,
   "id": "241174a2",
   "metadata": {},
   "outputs": [
    {
     "name": "stdout",
     "output_type": "stream",
     "text": [
      "Percentage error: 1.3806487628428267e-05\n"
     ]
    }
   ],
   "source": [
    "#part3\n",
    "#c\n",
    "import numpy as np\n",
    "#percentage error\n",
    "\n",
    "error = (np.abs(finalPopulation-275.3335)/275.3335)*100\n",
    "print(\"Percentage error:\",error)"
   ]
  },
  {
   "cell_type": "code",
   "execution_count": 7,
   "id": "f4b35961",
   "metadata": {},
   "outputs": [
    {
     "name": "stdout",
     "output_type": "stream",
     "text": [
      "x value: 4.323323583809859\n"
     ]
    }
   ],
   "source": [
    "#part4\n",
    "#c\n",
    "def f(x):\n",
    "    return (5-x)/2\n",
    "\n",
    "tValues , xValues = fourth_order_runge_kutta(f, 0 , 0, 0.01, 400)\n",
    "\n",
    "\n",
    "print(\"x value:\",xValues[-1])"
   ]
  },
  {
   "cell_type": "code",
   "execution_count": 9,
   "id": "5cae3350",
   "metadata": {},
   "outputs": [
    {
     "name": "stdout",
     "output_type": "stream",
     "text": [
      "Percentage error: 0.0017675022006055905\n"
     ]
    }
   ],
   "source": [
    "#part4\n",
    "#c\n",
    "#percentage error\n",
    "\n",
    "error = (np.abs(xValues[-1]-4.3234)/4.3234)*100\n",
    "print(\"Percentage error:\",error)"
   ]
  },
  {
   "cell_type": "code",
   "execution_count": 11,
   "id": "5462973b",
   "metadata": {},
   "outputs": [
    {
     "data": {
      "image/png": "[encoded data removed]",
      "text/plain": [
       "<Figure size 1000x500 with 1 Axes>"
      ]
     },
     "metadata": {},
     "output_type": "display_data"
    }
   ],
   "source": [
    "#part5\n",
    "#defining fourth order runge kutta method\n",
    "\n",
    "import math\n",
    "import matplotlib.pyplot as plt\n",
    "\n",
    "def fourth_order_runge_kutta_dho(f, x0, v0, h, num_steps):\n",
    "    \n",
    "    tValues = [0]\n",
    "    xValues = [x0]\n",
    "    vValues = [v0]\n",
    "    \n",
    "    for i in range(num_steps):\n",
    "        t = tValues[-1]\n",
    "        x = xValues[-1]\n",
    "        v = vValues[-1]\n",
    "        \n",
    "        k1_x = h * v\n",
    "        k1_v = h * f(x, t, v)\n",
    "        \n",
    "        k2_x = h * (v + 0.5 * k1_v)\n",
    "        k2_v = h * f(x + 0.5 * k1_x, t + 0.5 * h, v + 0.5 * k1_v)\n",
    "        \n",
    "        k3_x = h * (v + 0.5 * k2_v)\n",
    "        k3_v = h * f(x + 0.5 * k2_x, t + 0.5 * h, v + 0.5 * k2_v)\n",
    "        \n",
    "        k4_x = h * (v + k3_v)\n",
    "        k4_v = h * f(x + k3_x, t + h, v + k3_v)\n",
    "        \n",
    "        xNew = x + (1 / 6) * (k1_x + 2 * k2_x + 2 * k3_x + k4_x)\n",
    "        vNew = v + (1 / 6) * (k1_v + 2 * k2_v + 2 * k3_v + k4_v)\n",
    "        \n",
    "        tNew = t + h\n",
    "        \n",
    "        tValues.append(tNew)\n",
    "        xValues.append(xNew)\n",
    "        vValues.append(vNew)\n",
    "        \n",
    "    return tValues, xValues\n",
    "\n",
    "def f(x, t, v):\n",
    "    return -k*x/m - b*v/m\n",
    "\n",
    "# when b^2 = 4mk\n",
    "k = 1\n",
    "m = 1\n",
    "b = 2 * math.sqrt(k * m)  # b^2 = 4mk\n",
    "x0 = 10\n",
    "v0 = 0\n",
    "h = 0.01\n",
    "num_steps = 1000\n",
    "\n",
    "tValues_1, xValues_1 = fourth_order_runge_kutta_dho(f, x0, v0, h, num_steps)\n",
    "\n",
    "plt.figure(figsize=(10,5))\n",
    "plt.plot(tValues_1, xValues_1)\n",
    "plt.xlabel('Time (s)')\n",
    "plt.ylabel('Distance (cm)')\n",
    "plt.title('Damped Harmonic Oscillator')\n",
    "plt.grid(True)\n",
    "plt.show()"
   ]
  },
  {
   "cell_type": "code",
   "execution_count": null,
   "id": "5bccd8f4",
   "metadata": {},
   "outputs": [],
   "source": []
  }
 ],
 "metadata": {
  "kernelspec": {
   "display_name": "Python 3 (ipykernel)",
   "language": "python",
   "name": "python3"
  },
  "language_info": {
   "codemirror_mode": {
    "name": "ipython",
    "version": 3
   },
   "file_extension": ".py",
   "mimetype": "text/x-python",
   "name": "python",
   "nbconvert_exporter": "python",
   "pygments_lexer": "ipython3",
   "version": "3.11.7"
  }
 },
 "nbformat": 4,
 "nbformat_minor": 5
}
