{
 "cells": [
  {
   "cell_type": "code",
   "execution_count": 1,
   "id": "3017e4b5",
   "metadata": {},
   "outputs": [
    {
     "name": "stdout",
     "output_type": "stream",
     "text": [
      "Amount of bacteria after 4 hours: 275.8245389607119\n"
     ]
    }
   ],
   "source": [
    "from scipy.integrate import solve_ivp\n",
    "\n",
    "def bacterial_population(t,x):\n",
    "    a = 0.1\n",
    "    b = 0.001\n",
    "    f = a * x - b * x**2\n",
    "    return f\n",
    "\n",
    "#initial conditions\n",
    "x0 = 2000\n",
    "t_span = (0, 4)\n",
    "\n",
    "# Solving the differential equation\n",
    "solution = solve_ivp(bacterial_population, t_span, [x0])\n",
    "\n",
    "# Extract the solution at t = 4\n",
    "t = 4\n",
    "bacteriaCount = solution.y[0][-1]  \n",
    "\n",
    "print(\"Amount of bacteria after 4 hours:\",bacteriaCount)\n"
   ]
  },
  {
   "cell_type": "code",
   "execution_count": 3,
   "id": "8fcbddc0",
   "metadata": {},
   "outputs": [
    {
     "name": "stdout",
     "output_type": "stream",
     "text": [
      "Percentage error: 0.17832918987336646\n"
     ]
    }
   ],
   "source": [
    "import numpy as np\n",
    "#percentage error\n",
    "\n",
    "error = (np.abs(275.8245-275.3335)/275.3335)*100\n",
    "print(\"Percentage error:\",error)"
   ]
  },
  {
   "cell_type": "code",
   "execution_count": null,
   "id": "bf88c9f4",
   "metadata": {},
   "outputs": [],
   "source": []
  }
 ],
 "metadata": {
  "kernelspec": {
   "display_name": "Python 3 (ipykernel)",
   "language": "python",
   "name": "python3"
  },
  "language_info": {
   "codemirror_mode": {
    "name": "ipython",
    "version": 3
   },
   "file_extension": ".py",
   "mimetype": "text/x-python",
   "name": "python",
   "nbconvert_exporter": "python",
   "pygments_lexer": "ipython3",
   "version": "3.11.7"
  }
 },
 "nbformat": 4,
 "nbformat_minor": 5
}
